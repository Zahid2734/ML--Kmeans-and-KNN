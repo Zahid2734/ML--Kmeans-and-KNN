{
 "cells": [
  {
   "cell_type": "code",
   "execution_count": 1,
   "metadata": {},
   "outputs": [],
   "source": [
    "import numpy as np\n",
    "import random as random\n",
    "import matplotlib.pyplot as plt"
   ]
  },
  {
   "cell_type": "code",
   "execution_count": 31,
   "metadata": {},
   "outputs": [],
   "source": [
    "def myLWR(X,Test,k):\n",
    "    estimate_value_table=[]\n",
    "    Global_weight_table=[]\n",
    "    k=k\n",
    "    Train=X\n",
    "    test=Test[:,0:2]\n",
    "    train=Train[:,0:2]\n",
    "    test_len=test.shape[0]\n",
    "    train_len=train.shape[0]\n",
    "    estimate_value_table=[]\n",
    "    for i in range(test_len):\n",
    "        distance = []\n",
    "        for j in range(train_len):\n",
    "            dist=np.linalg.norm(test[i-1]-train[j-1])\n",
    "            distance.append([dist,Train[j-1]])\n",
    "            #Sorted based on distance\n",
    "        distance.sort(key=lambda x:x[0])\n",
    "        distance=np.array(distance)\n",
    "\n",
    "        # Estimate weight\n",
    "        train_weight=[]\n",
    "        train_label=[]\n",
    "        weight=[]\n",
    "        for m in range(k):\n",
    "            train_weight.append(distance[m,0:2])\n",
    "            train_label.append(distance[m,1])\n",
    "        train_weight=np.mat(train_weight)\n",
    "        train_label=np.mat(train_label)\n",
    "        weight= np.matmul(np.matmul(np.linalg.inv(np.matmul(train_weight.T, train_weight)), train_weight.T), train_label)\n",
    "        estimate_value= np.matmul(weight, test[i])\n",
    "        estimate_value_table.append(estimate_value)\n",
    "        \n",
    "        # finding Accuracy (RMSE)\n",
    "    sum_rmse=0\n",
    "    for m in range(test_len):\n",
    "        sumit=np.square(Test[m-1,2]-estimate_value_table[m])\n",
    "        sum_rmse=sum_rmse+sumit\n",
    "    rmse=np.sqrt(sum_rmse/test_len)\n",
    "    return rmse,estimate_value_table"
   ]
  },
  {
   "cell_type": "code",
   "execution_count": 32,
   "metadata": {},
   "outputs": [],
   "source": [
    "def main():\n",
    "    k=3 # change k value here\n",
    "    mean1 = [1, 0]\n",
    "    cov1 = [[1, .75], [.75, 1]]\n",
    "    x1, x2 = np.random.multivariate_normal(mean1, cov1, 300).T\n",
    "    noise1 = np.random.normal(0,  0.5, 300)\n",
    "    y=2*x1+x2+noise1\n",
    "    Train = np.vstack([x1,x2,y]).T\n",
    "    x11, x22 = np.random.multivariate_normal(mean1, cov1, 100).T\n",
    "    noise2 = np.random.normal(0,  0.5, 100)\n",
    "    y11=2*x11+x22+noise2\n",
    "    Test = np.vstack([x11,x22,y11]).T\n",
    "    model= myLWR(Train,Test,k)"
   ]
  },
  {
   "cell_type": "code",
   "execution_count": null,
   "metadata": {},
   "outputs": [],
   "source": [
    "if __name__ == '__main__':\n",
    "\n",
    "    main()"
   ]
  },
  {
   "cell_type": "code",
   "execution_count": null,
   "metadata": {},
   "outputs": [],
   "source": []
  }
 ],
 "metadata": {
  "kernelspec": {
   "display_name": "Python 3",
   "language": "python",
   "name": "python3"
  },
  "language_info": {
   "codemirror_mode": {
    "name": "ipython",
    "version": 3
   },
   "file_extension": ".py",
   "mimetype": "text/x-python",
   "name": "python",
   "nbconvert_exporter": "python",
   "pygments_lexer": "ipython3",
   "version": "3.7.4"
  }
 },
 "nbformat": 4,
 "nbformat_minor": 2
}
