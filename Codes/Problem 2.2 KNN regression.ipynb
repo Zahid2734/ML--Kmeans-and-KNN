{
 "cells": [
  {
   "cell_type": "code",
   "execution_count": 52,
   "metadata": {},
   "outputs": [],
   "source": [
    "import numpy as np\n",
    "import random as random\n",
    "import matplotlib.pyplot as plt\n",
    "from operator import itemgetter"
   ]
  },
  {
   "cell_type": "code",
   "execution_count": 53,
   "metadata": {},
   "outputs": [],
   "source": [
    "def myknnregress(X,Test,k):\n",
    "    estimate_value_table=[]\n",
    "    k=k\n",
    "    Train=X\n",
    "    test=Test[:,0:2]\n",
    "    train=Train[:,0:2]\n",
    "    test_len=test.shape[0]\n",
    "    train_len=train.shape[0]\n",
    "    for i in range(test_len):\n",
    "        distance = []\n",
    "        for j in range(train_len):\n",
    "            dist=np.linalg.norm(test[i-1]-train[j-1])\n",
    "            distance.append([Train[j-1,2],dist])\n",
    "                #sorted(distance,key=itemgetter(1))\n",
    "        distance.sort(key=lambda x:x[1])\n",
    "\n",
    "\n",
    "            #Estimate value\n",
    "        sum_neighbor=0\n",
    "        for l in range(k):\n",
    "            distance = np.array(distance)\n",
    "            sum_neighbor = sum_neighbor+distance[l-1,0]\n",
    "        estimate_value=sum_neighbor/k\n",
    "        estimate_value_table.append(estimate_value)\n",
    "\n",
    "        # finding Accuracy (RMSE)\n",
    "    sum_rmse=0\n",
    "    for m in range(test_len):\n",
    "        sumit=np.square(Test[m-1,2]-estimate_value_table[m])\n",
    "        sum_rmse=sum_rmse+sumit\n",
    "    rmse=np.sqrt(sum_rmse/test_len)\n",
    "    print(rmse)       \n",
    "\n",
    "\n",
    "    "
   ]
  },
  {
   "cell_type": "code",
   "execution_count": 59,
   "metadata": {},
   "outputs": [],
   "source": [
    "def main():\n",
    "    mean1 = [1, 0]\n",
    "    cov1 = [[1, .75], [.75, 1]]\n",
    "    x1, x2 = np.random.multivariate_normal(mean1, cov1, 300).T\n",
    "    noise1 = np.random.normal(0,  0.5, 300)\n",
    "    y=2*x1+x2+noise1\n",
    "    Train = np.vstack([x1,x2,y]).T\n",
    "    x11, x22 = np.random.multivariate_normal(mean1, cov1, 100).T\n",
    "    noise2 = np.random.normal(0,  0.5, 100)\n",
    "    y11=2*x11+x22+noise2\n",
    "    Test = np.vstack([x11,x22,y11]).T\n",
    "    model= myknnregress(Train,Test,20)"
   ]
  },
  {
   "cell_type": "code",
   "execution_count": 60,
   "metadata": {},
   "outputs": [
    {
     "name": "stdout",
     "output_type": "stream",
     "text": [
      "0.9300197987166953\n"
     ]
    }
   ],
   "source": [
    "\n",
    "if __name__ == '__main__':\n",
    "\n",
    "    main()"
   ]
  },
  {
   "cell_type": "code",
   "execution_count": null,
   "metadata": {},
   "outputs": [],
   "source": []
  }
 ],
 "metadata": {
  "kernelspec": {
   "display_name": "Python 3",
   "language": "python",
   "name": "python3"
  },
  "language_info": {
   "codemirror_mode": {
    "name": "ipython",
    "version": 3
   },
   "file_extension": ".py",
   "mimetype": "text/x-python",
   "name": "python",
   "nbconvert_exporter": "python",
   "pygments_lexer": "ipython3",
   "version": "3.7.4"
  }
 },
 "nbformat": 4,
 "nbformat_minor": 2
}
