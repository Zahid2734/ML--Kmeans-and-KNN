{
 "cells": [
  {
   "cell_type": "code",
   "execution_count": 52,
   "metadata": {},
   "outputs": [],
   "source": [
    "import numpy as np\n",
    "import random as random\n",
    "import matplotlib.pyplot as plt\n",
    "from operator import itemgetter"
   ]
  },
  {
   "cell_type": "code",
   "execution_count": 55,
   "metadata": {},
   "outputs": [],
   "source": [
    "def myknnclassify(train,test,k):\n",
    "    estimate_class=[]\n",
    "    k=k\n",
    "    test_val=test[:,0:2]\n",
    "    train_val=train[:,0:2]\n",
    "    test_len=test_val.shape[0]\n",
    "    train_len=train_val.shape[0]\n",
    "    for i in range(test_len):\n",
    "        distance = []\n",
    "        for j in range(train_len):\n",
    "            dist=np.linalg.norm(test_val[i-1]-train_val[j-1])\n",
    "            distance.append([train[j-1,2],dist])\n",
    "            \n",
    "        # Sort data based on distance\n",
    "        distance.sort(key=lambda x:x[1])\n",
    "        zero_class=0;\n",
    "        one_class=0;\n",
    "\n",
    "        #Estimate class\n",
    "        zero_class=0;\n",
    "        one_class=0;\n",
    "        for l in range(k):\n",
    "            distance= np.array(distance)\n",
    "            if distance[l-1,0]==0:\n",
    "                zero_class +=1\n",
    "            elif distance[l-1,0]==1:\n",
    "                one_class +=1\n",
    "        if zero_class>=one_class:\n",
    "            estimate_class.append(0)\n",
    "        else:\n",
    "            estimate_class.append(1)\n",
    "\n",
    "\n",
    "    # finding Accuracy\n",
    "    number_accurate=0\n",
    "    for m in range(test_len):\n",
    "        if test[m-1,2]==estimate_class[m]:\n",
    "            number_accurate +=1\n",
    "    accuracy=(number_accurate/test_len)\n",
    "    #print(accuracy,number_accurate,estimate_class)       \n",
    "\n",
    "    return accuracy"
   ]
  },
  {
   "cell_type": "code",
   "execution_count": 65,
   "metadata": {},
   "outputs": [],
   "source": [
    "def main():\n",
    "    k=3 # change k value here\n",
    "    mean1 = [1, 0]\n",
    "    mean2 = [0, 1]\n",
    "    cov1 = [[1, .75], [.75, 1]]\n",
    "    cov2 = [[1, -.5], [.5, 1]] \n",
    "\n",
    "    x1, y1 = np.random.multivariate_normal(mean1, cov1, 200).T\n",
    "    x2, y2 = np.random.multivariate_normal(mean2, cov2, 200).T\n",
    "    val1= np.zeros(len(x1))\n",
    "    val2= np.ones(len(x2))\n",
    "    X= np.concatenate([x1,x2])\n",
    "    Y= np.concatenate([y1,y2])\n",
    "    z1=np.vstack((x1,y1,val1)).T\n",
    "    z2=np.vstack((x2,y2,val2)).T\n",
    "    Z= np.concatenate([z1,z2])\n",
    "    Train_data=np.array(Z)\n",
    "    plt.plot(X, Y, 'x')\n",
    "    plt.axis('equal')\n",
    "    plt.show()\n",
    "    \n",
    "    mean11 = [1, 0]\n",
    "    mean22 = [0, 1]\n",
    "    cov11 = [[1, .75], [.75, 1]]\n",
    "    cov22 = [[1, -.5], [.5, 1]] \n",
    "\n",
    "    x11, y11 = np.random.multivariate_normal(mean11, cov11, 50).T\n",
    "    x22, y22 = np.random.multivariate_normal(mean22, cov22, 50).T\n",
    "    val11= np.zeros(len(x11))\n",
    "    val22= np.ones(len(x22))\n",
    "    X11= np.concatenate([x11,x22])\n",
    "    Y11= np.concatenate([y11,y22])\n",
    "    z11=np.vstack((x11,y11,val11)).T\n",
    "    z22=np.vstack((x22,y22,val22)).T\n",
    "    Z11= np.concatenate([z11,z22])\n",
    "    Test_data=np.array(Z11)\n",
    "    plt.plot(X11, Y11, 'x')\n",
    "    plt.axis('equal')\n",
    "    plt.show()\n",
    "    model= myknnclassify(Train_data,Test_data,k)\n"
   ]
  },
  {
   "cell_type": "code",
   "execution_count": null,
   "metadata": {},
   "outputs": [],
   "source": [
    "if __name__ == '__main__':\n",
    "\n",
    "    main()"
   ]
  }
 ],
 "metadata": {
  "kernelspec": {
   "display_name": "Python 3",
   "language": "python",
   "name": "python3"
  },
  "language_info": {
   "codemirror_mode": {
    "name": "ipython",
    "version": 3
   },
   "file_extension": ".py",
   "mimetype": "text/x-python",
   "name": "python",
   "nbconvert_exporter": "python",
   "pygments_lexer": "ipython3",
   "version": "3.7.4"
  }
 },
 "nbformat": 4,
 "nbformat_minor": 2
}
