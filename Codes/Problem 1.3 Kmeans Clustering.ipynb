{
 "cells": [
  {
   "cell_type": "code",
   "execution_count": 1,
   "metadata": {},
   "outputs": [],
   "source": [
    "import numpy as np\n",
    "import random as random\n",
    "import matplotlib.pyplot as plt\n",
    "\n",
    "\n",
    "\n",
    "def mykmeans(X, k):\n",
    "    data=X\n",
    "    N = data.shape[0]\n",
    "    numFeatures = data.shape[1]\n",
    "    labels = -1*np.zeros(N)\n",
    "    numIterationsCompleted = 0\n",
    "    means = np.zeros((k,numFeatures))\n",
    "    \n",
    "    \n",
    "    min = np.min(data)\n",
    "    max = np.max(data)\n",
    "    \n",
    "    #Fill mean vector with random values(initial mean)\n",
    "    for i in range(k):\n",
    "        for f in range(numFeatures):\n",
    "            means[i][f] = random.uniform(min, max)\n",
    "    \n",
    "     # Implementing l2 norm to get mean distances\n",
    "    while(True): \n",
    "        for i in range(N):\n",
    "            distmin =np.sqrt((np.linalg.norm(data[i] - means[0]))**2)\n",
    "            minindex = 0\n",
    "            for j in range(k):\n",
    "                #Find distance to each mean. Take the smallest one.\n",
    "                distcurrent = np.sqrt((np.linalg.norm(data[i] - means[j]))**2)\n",
    "                if(distcurrent < distmin):\n",
    "                    distmin = distcurrent\n",
    "                    minindex = j\n",
    "            labels[i] = minindex\n",
    "    \n",
    "        dummy = True\n",
    "        for i in range(k):\n",
    "            datalabeli = data[np.where(labels == i)]\n",
    "            newmeanforlabeli = np.mean(datalabeli,0)\n",
    "            for f in range(numFeatures):\n",
    "                dummy = dummy and (means[i][f] == newmeanforlabeli[f])\n",
    "        if(dummy == True):\n",
    "            #Optimum Found!\n",
    "            return labels, means\n",
    "        else:\n",
    "            for i in range(k):\n",
    "                datalabeli = data[np.where(labels == i)]\n",
    "                newmeanforlabeli = np.mean(datalabeli,0)\n",
    "                means[i] = newmeanforlabeli\n",
    "        numIterationsCompleted+=1"
   ]
  },
  {
   "cell_type": "code",
   "execution_count": 2,
   "metadata": {},
   "outputs": [],
   "source": [
    "def main():\n",
    "    mean1 = [-2, 0]\n",
    "    mean2 = [2, 0]\n",
    "    mean3 = [0, 2]\n",
    "    cov = [[1, .75], [.75, 1]] \n",
    "    x1, y1 = np.random.multivariate_normal(mean1, cov, 300).T\n",
    "    x2, y2 = np.random.multivariate_normal(mean2, cov, 300).T\n",
    "    x3, y3 = np.random.multivariate_normal(mean3, cov, 300).T\n",
    "    X= np.concatenate([x1,x2,x3])\n",
    "    Y= np.concatenate([y1,y2,y3])\n",
    "    Z=np.vstack((X, Y)).T\n",
    "    Z=np.array(Z)\n",
    "    plt.plot(X, Y, 'x')\n",
    "    plt.axis('equal')\n",
    "    plt.show()\n",
    "    N = data.shape[0]\n",
    "    for i in range(2,6):\n",
    "        result = mykmeans(Z,i)\n",
    "        labels= result[0]\n",
    "        plt.scatter(Z[:,0], Z[:,1], c = labels)\n",
    "        plt.show\n",
    "        print(result[1])"
   ]
  },
  {
   "cell_type": "code",
   "execution_count": null,
   "metadata": {},
   "outputs": [],
   "source": [
    "if __name__ == '__main__':\n",
    "\n",
    "    main()"
   ]
  }
 ],
 "metadata": {
  "kernelspec": {
   "display_name": "Python 3",
   "language": "python",
   "name": "python3"
  },
  "language_info": {
   "codemirror_mode": {
    "name": "ipython",
    "version": 3
   },
   "file_extension": ".py",
   "mimetype": "text/x-python",
   "name": "python",
   "nbconvert_exporter": "python",
   "pygments_lexer": "ipython3",
   "version": "3.7.4"
  }
 },
 "nbformat": 4,
 "nbformat_minor": 2
}
